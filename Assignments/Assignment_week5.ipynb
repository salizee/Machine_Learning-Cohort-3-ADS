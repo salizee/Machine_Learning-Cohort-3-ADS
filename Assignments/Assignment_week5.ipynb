{
 "cells": [
  {
   "cell_type": "markdown",
   "id": "cd6aaa54",
   "metadata": {},
   "source": [
    "1. # Line Chart Trend Over Time"
   ]
  },
  {
   "cell_type": "code",
   "execution_count": null,
   "id": "c1ee0255",
   "metadata": {
    "vscode": {
     "languageId": "plaintext"
    }
   },
   "outputs": [],
   "source": [
    "plt.plot(df['Year'], df['Snow_Geese_Count'], marker='o')\n",
    "plt.title(\"Snow Geese Count Over Years\")\n",
    "plt.xlabel(\"Year\")\n",
    "plt.ylabel(\"Count\")\n",
    "plt.grid(True)\n",
    "plt.show()"
   ]
  },
  {
   "cell_type": "markdown",
   "id": "153ec6a1",
   "metadata": {},
   "source": [
    "2. # Bar Chart Wing Span"
   ]
  },
  {
   "cell_type": "code",
   "execution_count": null,
   "id": "a032fdcd",
   "metadata": {
    "vscode": {
     "languageId": "plaintext"
    }
   },
   "outputs": [],
   "source": [
    "sns.barplot(x='Year', y='Wing_Span_cm', data=df)\n",
    "plt.title(\"Average Wing Span Over Years\")\n",
    "plt.ylabel(\"Wing Span (cm)\")\n",
    "plt.show()\n"
   ]
  },
  {
   "cell_type": "markdown",
   "id": "89a33b72",
   "metadata": {},
   "source": [
    "3. # Scatter Plot (Weight VS Count)"
   ]
  },
  {
   "cell_type": "code",
   "execution_count": null,
   "id": "70aaed43",
   "metadata": {
    "vscode": {
     "languageId": "plaintext"
    }
   },
   "outputs": [],
   "source": [
    "plt.scatter(df['Avg_Weight_kg'], df['Snow_Geese_Count'], c='green')\n",
    "plt.title(\"Weight vs Snow Geese Count\")\n",
    "plt.xlabel(\"Average Weight (kg)\")\n",
    "plt.ylabel(\"Count\")\n",
    "plt.grid(True)\n",
    "plt.show()\n"
   ]
  }
 ],
 "metadata": {
  "language_info": {
   "name": "python"
  }
 },
 "nbformat": 4,
 "nbformat_minor": 5
}
