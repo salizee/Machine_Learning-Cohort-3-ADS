{
 "cells": [
  {
   "cell_type": "markdown",
   "id": "f4ba03c6",
   "metadata": {},
   "source": [
    "## Snow Geese Data Analysis Notebook"
   ]
  },
  {
   "cell_type": "code",
   "execution_count": null,
   "id": "1633f825",
   "metadata": {
    "vscode": {
     "languageId": "plaintext"
    }
   },
   "outputs": [],
   "source": [
    "import pandas as pd\n",
    "import matplotlib.pyplot as plt\n",
    "import seaborn as sns"
   ]
  },
  {
   "cell_type": "markdown",
   "id": "58c5ab75",
   "metadata": {},
   "source": [
    "## Load dataset (replace with actual path or method to load your dataset)"
   ]
  },
  {
   "cell_type": "code",
   "execution_count": null,
   "id": "8df7b90d",
   "metadata": {
    "vscode": {
     "languageId": "plaintext"
    }
   },
   "outputs": [],
   "source": [
    "df = pd.read_csv(\"bird_migration_data.csv\")"
   ]
  },
  {
   "cell_type": "markdown",
   "id": "c648974a",
   "metadata": {},
   "source": [
    "## Filter data for Snow Geese"
   ]
  },
  {
   "cell_type": "code",
   "execution_count": null,
   "id": "7a3595b7",
   "metadata": {
    "vscode": {
     "languageId": "plaintext"
    }
   },
   "outputs": [],
   "source": [
    "snow_geese = df[df[\"bird_species\"] == \"Snow Geese\"]"
   ]
  },
  {
   "cell_type": "markdown",
   "id": "2d7926c1",
   "metadata": {},
   "source": [
    "# --- LINE CHART: Population Over Time ---"
   ]
  },
  {
   "cell_type": "code",
   "execution_count": null,
   "id": "e1fd3380",
   "metadata": {
    "vscode": {
     "languageId": "plaintext"
    }
   },
   "outputs": [],
   "source": [
    "plt.figure(figsize=(10, 5))\n",
    "line_data = snow_geese.groupby(\"year\")[\"count\"].sum()\n",
    "line_data.plot(kind=\"line\", marker='o')\n",
    "plt.title(\"Snow Geese Population Over Time\")\n",
    "plt.xlabel(\"Year\")\n",
    "plt.ylabel(\"Count\")\n",
    "plt.grid(True)\n",
    "plt.tight_layout()\n",
    "plt.show()"
   ]
  },
  {
   "cell_type": "markdown",
   "id": "b057160c",
   "metadata": {},
   "source": [
    "## --- SCATTERPLOT: Altitude vs Speed ---"
   ]
  },
  {
   "cell_type": "code",
   "execution_count": null,
   "id": "fa3946f7",
   "metadata": {
    "vscode": {
     "languageId": "plaintext"
    }
   },
   "outputs": [],
   "source": [
    "plt.figure(figsize=(10, 5))\n",
    "sns.scatterplot(data=snow_geese, x=\"altitude\", y=\"speed\", hue=\"season\")\n",
    "plt.title(\"Altitude vs Speed of Snow Geese\")\n",
    "plt.xlabel(\"Altitude (m)\")\n",
    "plt.ylabel(\"Speed (km/h)\")\n",
    "plt.grid(True)\n",
    "plt.tight_layout()\n",
    "plt.show()"
   ]
  },
  {
   "cell_type": "markdown",
   "id": "4dfbb14f",
   "metadata": {},
   "source": [
    "## --- BAR CHART: Snow Geese Count by Region ---"
   ]
  },
  {
   "cell_type": "code",
   "execution_count": null,
   "id": "0c90bc16",
   "metadata": {
    "vscode": {
     "languageId": "plaintext"
    }
   },
   "outputs": [],
   "source": [
    "plt.figure(figsize=(12, 6))\n",
    "bar_data = snow_geese.groupby(\"region\")[\"count\"].sum().sort_values(ascending=False)\n",
    "bar_data.plot(kind=\"bar\", color='skyblue')\n",
    "plt.title(\"Snow Geese Count by Region\")\n",
    "plt.xlabel(\"Region\")\n",
    "plt.ylabel(\"Total Count\")\n",
    "plt.xticks(rotation=45)\n",
    "plt.grid(axis='y')\n",
    "plt.tight_layout()\n",
    "plt.show()"
   ]
  },
  {
   "cell_type": "markdown",
   "id": "d88b49d6",
   "metadata": {},
   "source": [
    "## --- Summary ---"
   ]
  },
  {
   "cell_type": "code",
   "execution_count": null,
   "id": "fafc553c",
   "metadata": {
    "vscode": {
     "languageId": "plaintext"
    }
   },
   "outputs": [],
   "source": [
    "print(\"\"\"\n",
    "Summary:\n",
    "- The line chart shows how Snow Geese population trends over time.\n",
    "- The scatterplot reveals typical flying speeds and altitudes, showing seasonal variation.\n",
    "- The bar chart identifies the regions with the highest concentration of Snow Geese.\n",
    "\"\"\")\n"
   ]
  }
 ],
 "metadata": {
  "language_info": {
   "name": "python"
  }
 },
 "nbformat": 4,
 "nbformat_minor": 5
}
