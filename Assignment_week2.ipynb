{
 "cells": [
  {
   "cell_type": "markdown",
   "id": "3175c69c",
   "metadata": {},
   "source": [
    "# 🧪 Data Ethics Case Study: Algorithmic Bias in Hiring"
   ]
  },
  {
   "cell_type": "markdown",
   "id": "539da6ba",
   "metadata": {},
   "source": [
    "## 1. Data Ethics Challenge: Bias and Fairness in Algorithms\n",
    "\n",
    "One key data ethics challenge is ensuring **fairness and transparency** when using automated systems like AI algorithms for critical decisions such as hiring. When biased or unbalanced training data is used, the model can unintentionally reinforce social inequalities.\n"
   ]
  },
  {
   "cell_type": "markdown",
   "id": "6eca0fde",
   "metadata": {},
   "source": [
    "## 2. Real World Example: Amazon’s AI Hiring Tool Discriminated Against Women\n",
    "\n",
    "In 2018, it was revealed that Amazon had developed an AI recruitment tool to screen résumés and identify top candidates. However, the system **learned to favor male applicants** for technical roles, because it was trained on 10 years of past hiring data—dominated by male candidates.\n",
    "\n",
    "### Data Ethics Questions & Potential Harms:\n",
    "\n",
    "- **Bias in Data**: The system was trained on biased historical data, which excluded or down-ranked applications from women.\n",
    "- **Lack of Transparency**: Candidates were unaware of how their résumés were being evaluated or filtered out.\n",
    "- **Discrimination**: Women applying for technical roles were at a systemic disadvantage, which could harm diversity and inclusion efforts.\n",
    "- **Reputational Damage**: Such cases can damage public trust in AI systems and the company’s brand.\n",
    "\n",
    "### Solutions or Mitigation:\n",
    "\n",
    "- **Audit Algorithms** regularly for bias using fairness metrics.\n",
    "- **Diverse Training Data** that is representative and inclusive.\n",
    "- **Human-in-the-loop** approaches where automated decisions are reviewed by trained people.\n",
    "- **Transparency in AI decisions**, providing clear explanations and appeals processes for rejected candidates.\n"
   ]
  }
 ],
 "metadata": {
  "language_info": {
   "name": "python"
  }
 },
 "nbformat": 4,
 "nbformat_minor": 5
}
