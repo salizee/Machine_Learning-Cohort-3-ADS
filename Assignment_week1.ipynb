{
 "cells": [
  {
   "cell_type": "markdown",
   "id": "74521a64",
   "metadata": {},
   "source": [
    "1. ## Data Science scenarios Assignment"
   ]
  },
  {
   "cell_type": "markdown",
   "metadata": {},
   "source": [
    "| **Problem Domain** | **Problem**                                                               | **Which data to collect**                                                                                                                                      | **How to store the data**                                                                                                                                                                 | **Which insights/decisions we can make**                                                                                                                                                                            |\n",
    "| ------------------ | ------------------------------------------------------------------------- | -------------------------------------------------------------------------------------------------------------------------------------------------------------- | ----------------------------------------------------------------------------------------------------------------------------------------------------------------------------------------- | ------------------------------------------------------------------------------------------------------------------------------------------------------------------------------------------------------------------- |\n",
    "| **Education**      | Tracking student learning outcomes to improve teaching methods            | - Attendance<br>- Test scores<br>- Homework completion<br>- Classroom engagement (via apps or sensors)<br>- Feedback surveys                                   | Store in a cloud-based relational database (e.g., PostgreSQL). Large schools may generate GBs of data over time. Use student IDs to index data.                                           | - Identify students needing extra help<br>- Determine which teaching methods or content are most effective<br>- Detect patterns between attendance and performance<br>- Tailor content to different learning styles |\n",
    "| **Vaccination**    | Monitoring and optimizing vaccine distribution during a pandemic          | - Number of doses delivered/administered<br>- Location data<br>- Age group & comorbidities<br>- Adverse reactions<br>- Vaccine hesitancy reasons (via surveys) | Use a secure government-managed cloud system (e.g., AWS with HIPAA compliance), possibly a mix of SQL + NoSQL (e.g., MongoDB) for structured and unstructured data. Size could be in TBs. | - Detect regions with low coverage<br>- Allocate vaccines dynamically<br>- Monitor safety trends by age group<br>- Address public concerns using survey feedback                                                    |\n",
    "| **Productivity**   | Measuring and improving employee productivity in remote work environments | - Number of tasks completed<br>- Time spent on meetings<br>- Active computer hours<br>- Break frequency<br>- Calendar/task app logs                            | Store in a cloud-based time-series database (e.g., InfluxDB) or productivity platform (e.g., Google Workspace, Notion APIs). Daily logging is lightweight (MBs/user).                     | - Identify productivity peaks and dips<br>- Recommend break times to avoid burnout<br>- Detect meeting overloads<br>- Provide personalized performance feedback and goal tracking                                   |\n"
   ]
  }
 ],
 "metadata": {
  "language_info": {
   "name": "python"
  }
 },
 "nbformat": 4,
 "nbformat_minor": 5
}
